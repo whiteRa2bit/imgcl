{
 "cells": [
  {
   "cell_type": "code",
   "execution_count": 1,
   "metadata": {},
   "outputs": [],
   "source": [
    "import torch\n",
    "\n",
    "from imgcl.config import TRAIN_CONFIG, TRAIN_VAL_DIR, TRAIN_VAL_LABELS_PATH\n",
    "from imgcl.dataset import ImageDataset\n",
    "from imgcl.nets.baseline import Model\n",
    "from imgcl.trainer import Trainer"
   ]
  },
  {
   "cell_type": "code",
   "execution_count": 2,
   "metadata": {
    "scrolled": true
   },
   "outputs": [],
   "source": [
    "# !pip install ../"
   ]
  },
  {
   "cell_type": "code",
   "execution_count": null,
   "metadata": {},
   "outputs": [
    {
     "name": "stderr",
     "output_type": "stream",
     "text": [
      "wandb: Currently logged in as: whitera2bit (use `wandb login --relogin` to force relogin)\n",
      "wandb: Tracking run with wandb version 0.10.1\n",
      "wandb: Run data is saved locally in wandb/run-20200919_214935-35vn9nke\n",
      "wandb: Syncing run lively-snow-26\n"
     ]
    },
    {
     "data": {
      "text/html": [
       "\n",
       "                Logging results to <a href=\"https://wandb.com\" target=\"_blank\">Weights & Biases</a> <a href=\"https://docs.wandb.com/integrations/jupyter.html\" target=\"_blank\">(Documentation)</a>.<br/>\n",
       "                Project page: <a href=\"https://app.wandb.ai/whitera2bit/dl_hse\" target=\"_blank\">https://app.wandb.ai/whitera2bit/dl_hse</a><br/>\n",
       "                Run page: <a href=\"https://app.wandb.ai/whitera2bit/dl_hse/runs/35vn9nke\" target=\"_blank\">https://app.wandb.ai/whitera2bit/dl_hse/runs/35vn9nke</a><br/>\n",
       "            "
      ],
      "text/plain": [
       "<IPython.core.display.HTML object>"
      ]
     },
     "metadata": {},
     "output_type": "display_data"
    },
    {
     "name": "stderr",
     "output_type": "stream",
     "text": [
      "\r",
      "0it [00:00, ?it/s]"
     ]
    },
    {
     "name": "stdout",
     "output_type": "stream",
     "text": [
      "\n"
     ]
    },
    {
     "name": "stderr",
     "output_type": "stream",
     "text": [
      "298it [00:25, 27.50it/s]"
     ]
    }
   ],
   "source": [
    "dataset = ImageDataset(TRAIN_VAL_DIR, TRAIN_VAL_LABELS_PATH)\n",
    "model = Model(TRAIN_CONFIG)\n",
    "optimizer = torch.optim.Adam(model.parameters(), lr=TRAIN_CONFIG[\"lr\"])\n",
    "trainer = Trainer(model, optimizer, dataset, TRAIN_CONFIG)\n",
    "trainer.train()"
   ]
  }
 ],
 "metadata": {
  "kernelspec": {
   "display_name": "Python 3",
   "language": "python",
   "name": "python3"
  },
  "language_info": {
   "codemirror_mode": {
    "name": "ipython",
    "version": 3
   },
   "file_extension": ".py",
   "mimetype": "text/x-python",
   "name": "python",
   "nbconvert_exporter": "python",
   "pygments_lexer": "ipython3",
   "version": "3.7.6"
  }
 },
 "nbformat": 4,
 "nbformat_minor": 4
}
