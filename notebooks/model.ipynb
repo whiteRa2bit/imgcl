{
 "cells": [
  {
   "cell_type": "code",
   "execution_count": 1,
   "metadata": {},
   "outputs": [],
   "source": [
    "import os\n",
    "\n",
    "import pandas as pd\n",
    "import tqdm\n",
    "from skimage import io\n",
    "import torch\n",
    "from torch.utils.data import Dataset, DataLoader, random_split\n",
    "import wandb\n",
    "\n",
    "from imgcl.config import TRAIN_DIR, TRAIN_LABELS_PATH, IDX_SIZE, \\\n",
    "                        ID_COLUMN, LABEL_COLUMN, TRAIN_SIZE, CHECKPOINT_DIR"
   ]
  },
  {
   "cell_type": "code",
   "execution_count": 2,
   "metadata": {},
   "outputs": [],
   "source": [
    "!export CUDA_VISIBLE_DEVICES=2"
   ]
  },
  {
   "cell_type": "code",
   "execution_count": 3,
   "metadata": {},
   "outputs": [],
   "source": [
    "config = {\n",
    "    \"lr\": 1e-4,\n",
    "    \"epochs_num\": 20,\n",
    "    \"log_each\": 50,\n",
    "    \"device\": \"cuda\" if torch.cuda.is_available() else \"cpu\",\n",
    "    \"train_batch_size\": 64,\n",
    "    \"val_batch_size\": 1024\n",
    "}"
   ]
  },
  {
   "cell_type": "code",
   "execution_count": 4,
   "metadata": {},
   "outputs": [],
   "source": [
    "# !pip install ../"
   ]
  },
  {
   "cell_type": "code",
   "execution_count": 5,
   "metadata": {},
   "outputs": [],
   "source": [
    "df = pd.read_csv(TRAIN_LABELS_PATH)"
   ]
  },
  {
   "cell_type": "code",
   "execution_count": 6,
   "metadata": {},
   "outputs": [],
   "source": [
    "class ImageDataset(Dataset):\n",
    "    def __init__(self, data_dir, labels_path):\n",
    "        self.data_dir = data_dir\n",
    "        labels = pd.read_csv(labels_path)\n",
    "        labels.set_index([ID_COLUMN], inplace=True)\n",
    "        self.labels = dict(zip(labels.index, labels[LABEL_COLUMN].values))\n",
    "        \n",
    "    def __len__(self):\n",
    "        return len(os.listdir(self.data_dir)) - 1\n",
    "\n",
    "    def __getitem__(self, idx):\n",
    "        idx = self._transform_idx(idx)\n",
    "        img_path = os.path.join(self.data_dir, idx)\n",
    "        img = io.imread(img_path)\n",
    "        img_tensor = torch.from_numpy(img).permute(2, 0, 1)\n",
    "        label= self.labels[idx]\n",
    "        return {\"image\": img_tensor.float(), \"label\": label}\n",
    "    \n",
    "    @staticmethod\n",
    "    def _transform_idx(idx):\n",
    "        idx = str(idx)\n",
    "        prefix = f\"trainval_{'0' * (IDX_SIZE - len(idx))}\"\n",
    "        postfix = '.jpg'\n",
    "        full_idx = prefix + idx + postfix\n",
    "        return full_idx        "
   ]
  },
  {
   "cell_type": "code",
   "execution_count": 7,
   "metadata": {},
   "outputs": [],
   "source": [
    "dataset = ImageDataset(TRAIN_DIR, TRAIN_LABELS_PATH)\n",
    "\n",
    "train_len = int(len(dataset) * TRAIN_SIZE)\n",
    "val_len = len(dataset) - train_len\n",
    "train_dataset, val_dataset = random_split(dataset, [train_len, val_len])\n",
    "\n",
    "train_dataloader = DataLoader(train_dataset, batch_size=config[\"train_batch_size\"],\n",
    "                        shuffle=True)\n",
    "val_dataloader = DataLoader(val_dataset, batch_size=config[\"val_batch_size\"], \\\n",
    "                        shuffle=True)"
   ]
  },
  {
   "cell_type": "markdown",
   "metadata": {},
   "source": [
    "### Model"
   ]
  },
  {
   "cell_type": "code",
   "execution_count": 8,
   "metadata": {
    "scrolled": true
   },
   "outputs": [],
   "source": [
    "import torch.nn as nn\n",
    "import torch.nn.functional as F\n"
   ]
  },
  {
   "cell_type": "code",
   "execution_count": 9,
   "metadata": {},
   "outputs": [],
   "source": [
    "class Model(nn.Module):\n",
    "    def __init__(self):\n",
    "        super(Model, self).__init__()\n",
    "        self.conv1 = nn.Conv2d(3, 6, 5)\n",
    "        self.pool = nn.MaxPool2d(2, 2)\n",
    "        self.conv2 = nn.Conv2d(6, 16, 5)\n",
    "        self.fc1 = nn.Linear(16 * 7 * 7, 496)\n",
    "        self.fc2 = nn.Linear(496, 200)\n",
    "\n",
    "    def forward(self, x, debug=False):\n",
    "        x = F.relu(self.conv1(x))\n",
    "        if debug:\n",
    "            print(x.shape)\n",
    "        x = self.pool(x)\n",
    "        if debug:\n",
    "            print(x.shape)\n",
    "        x = self.pool(F.relu(self.conv2(x)))\n",
    "        if debug:\n",
    "            print(x.shape)\n",
    "        x = x.view(-1, 16 * 7 * 7)\n",
    "        if debug:\n",
    "            print(x.shape)\n",
    "        x = F.relu(self.fc1(x))\n",
    "        if debug:\n",
    "            print(x.shape)\n",
    "        x = self.fc2(x)\n",
    "        if debug:\n",
    "            print(x.shape)\n",
    "        return x\n"
   ]
  },
  {
   "cell_type": "code",
   "execution_count": 10,
   "metadata": {},
   "outputs": [],
   "source": [
    "# test_img = train_dataset[0]['image'].unsqueeze(0)\n",
    "# model = Model()\n",
    "# model(test_img)"
   ]
  },
  {
   "cell_type": "code",
   "execution_count": 12,
   "metadata": {
    "scrolled": true
   },
   "outputs": [],
   "source": [
    "model = Model()\n",
    "optimizer = torch.optim.Adam(model.parameters(), lr=config[\"lr\"])\n",
    "criterion = nn.CrossEntropyLoss()\n",
    "model = model.to(config['device'])"
   ]
  },
  {
   "cell_type": "markdown",
   "metadata": {},
   "source": [
    "3 minutes - 1500 iterations"
   ]
  },
  {
   "cell_type": "markdown",
   "metadata": {},
   "source": [
    "### Train"
   ]
  },
  {
   "cell_type": "code",
   "execution_count": null,
   "metadata": {},
   "outputs": [],
   "source": [
    "wandb.init(config=config, project=\"dl_hse\")\n",
    "wandb.watch(model)"
   ]
  },
  {
   "cell_type": "code",
   "execution_count": null,
   "metadata": {},
   "outputs": [
    {
     "name": "stderr",
     "output_type": "stream",
     "text": [
      "1485it [01:08, 21.75it/s]\n",
      "1485it [01:08, 21.64it/s]\n",
      "1485it [01:08, 21.76it/s]\n",
      "1485it [01:08, 21.65it/s]\n",
      "1485it [01:08, 21.70it/s]\n",
      "1485it [01:08, 21.65it/s]\n",
      "718it [00:33, 22.72it/s]"
     ]
    }
   ],
   "source": [
    "model.train()\n",
    "best_val_accuracy = 0\n",
    "for epoch in range(config['epochs_num']):\n",
    "    for i, data in tqdm.tqdm(enumerate(train_dataloader)):\n",
    "        # data preparation\n",
    "        inputs = data[\"image\"].to(config['device'])\n",
    "        labels = data[\"label\"].to(config['device'])\n",
    "\n",
    "        optimizer.zero_grad()\n",
    "        output = model(inputs)\n",
    "        loss = criterion(output, labels)\n",
    "\n",
    "        # compute gradients\n",
    "        loss.backward()\n",
    "\n",
    "        # make a step\n",
    "        optimizer.step()\n",
    "\n",
    "        loss = loss.item()\n",
    "\n",
    "        if i % config['log_each'] == 0:\n",
    "            val_data = next(iter(val_dataloader))\n",
    "            val_inputs = val_data[\"image\"].to(config['device'])\n",
    "            val_labels = val_data[\"label\"].to(config['device'])\n",
    "            val_output = model(val_inputs)\n",
    "\n",
    "            val_loss = criterion(val_output, val_labels)\n",
    "            val_preds = torch.argmax(val_output, axis=1)\n",
    "            val_accuracy = torch.sum(val_preds == val_labels).cpu().numpy() / len(val_labels)\n",
    "\n",
    "            wandb.log({\n",
    "                \"Train Loss\": loss, \\\n",
    "                \"Val Loss\": val_loss, \\\n",
    "                \"Val accuracy\": val_accuracy\n",
    "            })\n",
    "            \n",
    "            if val_accuracy > best_val_accuracy:\n",
    "                torch.save(model.state_dict(), )\n"
   ]
  }
 ],
 "metadata": {
  "kernelspec": {
   "display_name": "Python 3",
   "language": "python",
   "name": "python3"
  }
 },
 "nbformat": 4,
 "nbformat_minor": 4
}
